{
 "cells": [
  {
   "cell_type": "code",
   "execution_count": 1,
   "metadata": {},
   "outputs": [],
   "source": [
    "from twitter.search import Search\n",
    "import datetime"
   ]
  },
  {
   "cell_type": "code",
   "execution_count": null,
   "metadata": {},
   "outputs": [],
   "source": [
    "query = 'americanas lang:pt since:2023-09-25'"
   ]
  },
  {
   "cell_type": "code",
   "execution_count": null,
   "metadata": {},
   "outputs": [],
   "source": [
    "search = Search(accounts_json_path=\"example_accounts.json\",\n",
    "                collection_limit_per_account=500,\n",
    "                hours_to_reset_collection=12,\n",
    "                debug=True\n",
    "                )\n",
    "\n",
    "latest_results = search.run(\n",
    "    limit=10000,\n",
    "    latest=True,\n",
    "    retries=3,\n",
    "    queries=[\n",
    "        {\n",
    "            'category': 'Latest',\n",
    "            'query': query\n",
    "        },\n",
    "    ],\n",
    ")\n",
    "\n",
    "df = search.get_tweets_dataframe()"
   ]
  },
  {
   "cell_type": "code",
   "execution_count": null,
   "metadata": {},
   "outputs": [],
   "source": [
    "df.to_excel(f\"{query[:15].replace(' ', '-')}-{datetime.now().strftime('%Y-%m-%d-%H-%M-%S')}.xlsx\")"
   ]
  },
  {
   "cell_type": "code",
   "execution_count": null,
   "metadata": {},
   "outputs": [],
   "source": [
    "df"
   ]
  }
 ],
 "metadata": {
  "kernelspec": {
   "display_name": "Python 3",
   "language": "python",
   "name": "python3"
  },
  "language_info": {
   "codemirror_mode": {
    "name": "ipython",
    "version": 3
   },
   "file_extension": ".py",
   "mimetype": "text/x-python",
   "name": "python",
   "nbconvert_exporter": "python",
   "pygments_lexer": "ipython3",
   "version": "3.11.5"
  },
  "orig_nbformat": 4
 },
 "nbformat": 4,
 "nbformat_minor": 2
}
