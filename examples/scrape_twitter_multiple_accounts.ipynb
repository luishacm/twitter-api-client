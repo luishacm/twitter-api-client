{
 "cells": [
  {
   "cell_type": "code",
   "execution_count": null,
   "metadata": {},
   "outputs": [],
   "source": [
    "from twitter.search import Search\n",
    "from twitter.util import find_key\n",
    "import pandas as pd\n",
    "import datetime"
   ]
  },
  {
   "cell_type": "code",
   "execution_count": null,
   "metadata": {},
   "outputs": [],
   "source": [
    "query = 'americanas lang:pt since:2023-09-25'"
   ]
  },
  {
   "cell_type": "code",
   "execution_count": null,
   "metadata": {},
   "outputs": [],
   "source": [
    "search = Search(accounts_json_path=\"twitter_accounts.json\",\n",
    "                collection_limit_per_account=500,\n",
    "                hours_to_reset_collection=12,\n",
    "                debug=True\n",
    "                )\n",
    "\n",
    "latest_results = search.run(\n",
    "    limit=10000,\n",
    "    latest=True,\n",
    "    retries=3,\n",
    "    queries=[\n",
    "        {\n",
    "            'category': 'Latest',\n",
    "            'query': query\n",
    "        },\n",
    "    ],\n",
    ")"
   ]
  },
  {
   "cell_type": "code",
   "execution_count": null,
   "metadata": {},
   "outputs": [],
   "source": [
    "def get_tweets(data: list | dict):\n",
    "    tweets = [y for x in data for y in x if not y.get('entryId').startswith('promoted')]\n",
    "\n",
    "    df = (\n",
    "        pd.json_normalize(find_key(tweets, 'tweet_results'), max_level=1)\n",
    "        ['result.legacy'].apply(pd.Series)\n",
    "        .dropna(subset='user_id_str')\n",
    "        .assign(created_at=lambda x: pd.to_datetime(x['created_at'], format=\"%a %b %d %H:%M:%S %z %Y\"))\n",
    "        .sort_values('created_at', ascending=False)\n",
    "        .reset_index(drop=True)\n",
    "    )\n",
    "    numeric = [\n",
    "        'bookmark_count',\n",
    "        'favorite_count',\n",
    "        'quote_count',\n",
    "        'reply_count',\n",
    "        'retweet_count',\n",
    "    ]\n",
    "\n",
    "    df[numeric] = df[numeric].apply(pd.to_numeric, errors='coerce')\n",
    "    \n",
    "    df.rename(columns={'user_id_str': 'user_id', \n",
    "                       'id_str': 'id',\n",
    "                       'conversation_id_str': 'conversation_id', \n",
    "                       'quoted_status_id_str': 'quoted_status_id', \n",
    "                       'in_reply_to_user_id_str': 'in_reply_to_user_id', \n",
    "                       'in_reply_to_status_id_str': 'in_reply_to_status_id'}, \n",
    "                       inplace=True)\n",
    "    \n",
    "    df['created_at'] = df['created_at'].dt.tz_convert(None).dt.strftime(\"%Y-%m-%d %H:%M:%S 00:00\")\n",
    "\n",
    "    return df"
   ]
  },
  {
   "cell_type": "code",
   "execution_count": null,
   "metadata": {},
   "outputs": [],
   "source": [
    "df = get_tweets(latest_results)"
   ]
  },
  {
   "cell_type": "code",
   "execution_count": null,
   "metadata": {},
   "outputs": [],
   "source": [
    "df.to_excel(f\"{query[:15]}-{datetime.now().strftime('%Y-%m-%d-%H-%M-%S')}.xlsx\")"
   ]
  },
  {
   "cell_type": "code",
   "execution_count": null,
   "metadata": {},
   "outputs": [],
   "source": [
    "df"
   ]
  }
 ],
 "metadata": {
  "language_info": {
   "name": "python"
  },
  "orig_nbformat": 4
 },
 "nbformat": 4,
 "nbformat_minor": 2
}
