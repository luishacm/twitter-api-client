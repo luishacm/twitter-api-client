{
 "cells": [
  {
   "cell_type": "code",
   "execution_count": 1,
   "metadata": {},
   "outputs": [],
   "source": [
    "from twitter.search import Search\n",
    "from datetime import datetime\n",
    "import boto3"
   ]
  },
  {
   "cell_type": "code",
   "execution_count": null,
   "metadata": {},
   "outputs": [],
   "source": [
    "proxy_credentials = {\"username\": \"username\", \"password\": \"password\", \"bearer_token\": \"bearer_token\"}"
   ]
  },
  {
   "cell_type": "code",
   "execution_count": null,
   "metadata": {},
   "outputs": [],
   "source": [
    "s3 = boto3.client('s3', aws_access_key_id=\"aws_acces_key\", aws_secret_access_key=\"aws_secret_acces_key\", endpoint_url=\"end_point_yrl\")\n",
    "twitter_accounts = {\"s3\": s3, \"bucket_name\": \"bucket_name\", \"file_name\": \"twitter/scrapping/example_accounts.json\"}"
   ]
  },
  {
   "cell_type": "code",
   "execution_count": null,
   "metadata": {},
   "outputs": [],
   "source": [
    "query = '(\"americanas\" OR \"@americanas\") lang:pt until:2023-09-25 since:2023-09-24'"
   ]
  },
  {
   "cell_type": "code",
   "execution_count": null,
   "metadata": {},
   "outputs": [],
   "source": [
    "search = Search(twitter_accounts=\"example_accounts.json\", # OR twitter_accounts=twitter_accounts to use S3\n",
    "                collection_limit_per_account=500,\n",
    "                hours_to_reset_collection=12,\n",
    "                proxy_credentials=proxy_credentials,\n",
    "                debug=True\n",
    "                )\n",
    "\n",
    "latest_results = search.run(\n",
    "    limit=1000,\n",
    "    latest=True,\n",
    "    retries=3,\n",
    "    queries=[\n",
    "        {\n",
    "            'category': 'Latest',\n",
    "            'query': query\n",
    "        },\n",
    "    ],\n",
    ")\n",
    "\n",
    "df = search.get_tweets_dataframe()"
   ]
  },
  {
   "cell_type": "code",
   "execution_count": null,
   "metadata": {},
   "outputs": [],
   "source": [
    "df.to_excel(f\"twitter-{datetime.now().strftime('%Y-%m-%d-%H-%M-%S')}.xlsx\")"
   ]
  },
  {
   "cell_type": "code",
   "execution_count": null,
   "metadata": {},
   "outputs": [],
   "source": [
    "df"
   ]
  },
  {
   "cell_type": "code",
   "execution_count": null,
   "metadata": {},
   "outputs": [],
   "source": [
    "import pandas as pd\n",
    "import os\n",
    "\n",
    "def read_and_join_dataframes(folder_path: str) -> pd.DataFrame:\n",
    "    all_files = [f for f in os.listdir(folder_path) if f.endswith('.xlsx')]\n",
    "    joined_df = pd.DataFrame()\n",
    "    for file in all_files:\n",
    "        file_path = os.path.join(folder_path, file)\n",
    "        df = pd.read_excel(file_path)\n",
    "        if joined_df.empty:\n",
    "            joined_df = df\n",
    "        else:\n",
    "            joined_df = pd.concat([joined_df, df], ignore_index=True)\n",
    "    return joined_df\n",
    "\n",
    "joined_df = read_and_join_dataframes(\"path_to_folder\")"
   ]
  }
 ],
 "metadata": {
  "kernelspec": {
   "display_name": "Python 3",
   "language": "python",
   "name": "python3"
  },
  "language_info": {
   "codemirror_mode": {
    "name": "ipython",
    "version": 3
   },
   "file_extension": ".py",
   "mimetype": "text/x-python",
   "name": "python",
   "nbconvert_exporter": "python",
   "pygments_lexer": "ipython3",
   "version": "3.11.0"
  },
  "orig_nbformat": 4
 },
 "nbformat": 4,
 "nbformat_minor": 2
}
